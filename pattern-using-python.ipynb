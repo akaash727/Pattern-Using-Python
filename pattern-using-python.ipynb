{
 "cells": [
  {
   "cell_type": "markdown",
   "id": "surrounded-florence",
   "metadata": {
    "papermill": {
     "duration": 0.020694,
     "end_time": "2021-04-07T13:28:46.959374",
     "exception": false,
     "start_time": "2021-04-07T13:28:46.938680",
     "status": "completed"
    },
    "tags": []
   },
   "source": [
    "###  Q.1"
   ]
  },
  {
   "cell_type": "code",
   "execution_count": 1,
   "id": "abandoned-highland",
   "metadata": {
    "execution": {
     "iopub.execute_input": "2021-04-07T13:28:47.004293Z",
     "iopub.status.busy": "2021-04-07T13:28:47.003445Z",
     "iopub.status.idle": "2021-04-07T13:28:47.008303Z",
     "shell.execute_reply": "2021-04-07T13:28:47.008858Z"
    },
    "papermill": {
     "duration": 0.031301,
     "end_time": "2021-04-07T13:28:47.009130",
     "exception": false,
     "start_time": "2021-04-07T13:28:46.977829",
     "status": "completed"
    },
    "tags": []
   },
   "outputs": [
    {
     "name": "stdout",
     "output_type": "stream",
     "text": [
      "5 5 5 5 5 \r\n",
      "5 5 5 5 \r\n",
      "5 5 5 \r\n",
      "5 5 \r\n",
      "5 \r\n"
     ]
    }
   ],
   "source": [
    "nrows = 5\n",
    "for i in range(nrows, 0, -1):\n",
    "    for j in range(0, i):\n",
    "        print(5, end=\" \")\n",
    "    print(\"\\r\" )"
   ]
  },
  {
   "cell_type": "markdown",
   "id": "dominant-lover",
   "metadata": {
    "papermill": {
     "duration": 0.018794,
     "end_time": "2021-04-07T13:28:47.047163",
     "exception": false,
     "start_time": "2021-04-07T13:28:47.028369",
     "status": "completed"
    },
    "tags": []
   },
   "source": [
    "### Q.2"
   ]
  },
  {
   "cell_type": "code",
   "execution_count": 2,
   "id": "technical-handling",
   "metadata": {
    "execution": {
     "iopub.execute_input": "2021-04-07T13:28:47.091639Z",
     "iopub.status.busy": "2021-04-07T13:28:47.090974Z",
     "iopub.status.idle": "2021-04-07T13:28:47.096905Z",
     "shell.execute_reply": "2021-04-07T13:28:47.095874Z"
    },
    "papermill": {
     "duration": 0.030915,
     "end_time": "2021-04-07T13:28:47.097163",
     "exception": false,
     "start_time": "2021-04-07T13:28:47.066248",
     "status": "completed"
    },
    "tags": []
   },
   "outputs": [
    {
     "name": "stdout",
     "output_type": "stream",
     "text": [
      "0 1 2 3 4 5 \r\n",
      "0 1 2 3 4 \r\n",
      "0 1 2 3 \r\n",
      "0 1 2 \r\n",
      "0 1 \r\n"
     ]
    }
   ],
   "source": [
    "rows = 5\n",
    "for i in range(rows, 0, -1):\n",
    "    for j in range(0, i + 1):\n",
    "        print(j, end=\" \")\n",
    "    print(\"\\r\")"
   ]
  },
  {
   "cell_type": "markdown",
   "id": "pressed-white",
   "metadata": {
    "papermill": {
     "duration": 0.020603,
     "end_time": "2021-04-07T13:28:47.138290",
     "exception": false,
     "start_time": "2021-04-07T13:28:47.117687",
     "status": "completed"
    },
    "tags": []
   },
   "source": [
    "### Q.3"
   ]
  },
  {
   "cell_type": "code",
   "execution_count": 3,
   "id": "marked-surrey",
   "metadata": {
    "execution": {
     "iopub.execute_input": "2021-04-07T13:28:47.183350Z",
     "iopub.status.busy": "2021-04-07T13:28:47.182734Z",
     "iopub.status.idle": "2021-04-07T13:28:47.186951Z",
     "shell.execute_reply": "2021-04-07T13:28:47.186382Z"
    },
    "papermill": {
     "duration": 0.029236,
     "end_time": "2021-04-07T13:28:47.187092",
     "exception": false,
     "start_time": "2021-04-07T13:28:47.157856",
     "status": "completed"
    },
    "tags": []
   },
   "outputs": [
    {
     "name": "stdout",
     "output_type": "stream",
     "text": [
      "1 \n",
      "3 3 \n",
      "5 5 5 \n",
      "7 7 7 7 \n",
      "9 9 9 9 9 \n"
     ]
    }
   ],
   "source": [
    "rows = 5\n",
    "i = 1\n",
    "while i <= rows:\n",
    "    j = 1\n",
    "    while j <= i:\n",
    "        print((i * 2 - 1), end=\" \")\n",
    "        j = j + 1\n",
    "    i = i + 1\n",
    "    print('')"
   ]
  },
  {
   "cell_type": "markdown",
   "id": "numeric-blanket",
   "metadata": {
    "papermill": {
     "duration": 0.019175,
     "end_time": "2021-04-07T13:28:47.225882",
     "exception": false,
     "start_time": "2021-04-07T13:28:47.206707",
     "status": "completed"
    },
    "tags": []
   },
   "source": [
    "### Q.4"
   ]
  },
  {
   "cell_type": "code",
   "execution_count": 4,
   "id": "large-people",
   "metadata": {
    "execution": {
     "iopub.execute_input": "2021-04-07T13:28:47.270611Z",
     "iopub.status.busy": "2021-04-07T13:28:47.269974Z",
     "iopub.status.idle": "2021-04-07T13:28:47.275409Z",
     "shell.execute_reply": "2021-04-07T13:28:47.274557Z"
    },
    "papermill": {
     "duration": 0.030162,
     "end_time": "2021-04-07T13:28:47.275643",
     "exception": false,
     "start_time": "2021-04-07T13:28:47.245481",
     "status": "completed"
    },
    "tags": []
   },
   "outputs": [
    {
     "name": "stdout",
     "output_type": "stream",
     "text": [
      "1 \n",
      "2 1 \n",
      "3 2 1 \n",
      "4 3 2 1 \n",
      "5 4 3 2 1 \n"
     ]
    }
   ],
   "source": [
    "rows = 6\n",
    "for i in range(1, rows):\n",
    "    for j in range(i, 0, -1):\n",
    "        print(j, end=' ')\n",
    "    print(\"\")"
   ]
  },
  {
   "cell_type": "markdown",
   "id": "scheduled-lewis",
   "metadata": {
    "papermill": {
     "duration": 0.019845,
     "end_time": "2021-04-07T13:28:47.315903",
     "exception": false,
     "start_time": "2021-04-07T13:28:47.296058",
     "status": "completed"
    },
    "tags": []
   },
   "source": [
    "### Q.5"
   ]
  },
  {
   "cell_type": "code",
   "execution_count": 5,
   "id": "personal-statistics",
   "metadata": {
    "execution": {
     "iopub.execute_input": "2021-04-07T13:28:47.363216Z",
     "iopub.status.busy": "2021-04-07T13:28:47.362211Z",
     "iopub.status.idle": "2021-04-07T13:28:47.366681Z",
     "shell.execute_reply": "2021-04-07T13:28:47.365841Z"
    },
    "papermill": {
     "duration": 0.03074,
     "end_time": "2021-04-07T13:28:47.366837",
     "exception": false,
     "start_time": "2021-04-07T13:28:47.336097",
     "status": "completed"
    },
    "tags": []
   },
   "outputs": [
    {
     "name": "stdout",
     "output_type": "stream",
     "text": [
      "1 \n",
      "3 2 \n",
      "6 5 4 \n",
      "10 9 8 7 \n"
     ]
    }
   ],
   "source": [
    "start = 1\n",
    "stop = 2\n",
    "current_num = stop\n",
    "for row in range(2, 6):\n",
    "    for col in range(start, stop):\n",
    "        current_num -= 1\n",
    "        print(current_num, end=' ')\n",
    "    print(\"\")\n",
    "    start = stop\n",
    "    stop += row\n",
    "    current_num = stop\n"
   ]
  },
  {
   "cell_type": "markdown",
   "id": "dependent-meeting",
   "metadata": {
    "papermill": {
     "duration": 0.020458,
     "end_time": "2021-04-07T13:28:47.407828",
     "exception": false,
     "start_time": "2021-04-07T13:28:47.387370",
     "status": "completed"
    },
    "tags": []
   },
   "source": [
    "### Q.6"
   ]
  },
  {
   "cell_type": "code",
   "execution_count": 6,
   "id": "excess-license",
   "metadata": {
    "execution": {
     "iopub.execute_input": "2021-04-07T13:28:47.456957Z",
     "iopub.status.busy": "2021-04-07T13:28:47.455994Z",
     "iopub.status.idle": "2021-04-07T13:28:47.461798Z",
     "shell.execute_reply": "2021-04-07T13:28:47.462516Z"
    },
    "papermill": {
     "duration": 0.034362,
     "end_time": "2021-04-07T13:28:47.462780",
     "exception": false,
     "start_time": "2021-04-07T13:28:47.428418",
     "status": "completed"
    },
    "tags": []
   },
   "outputs": [
    {
     "name": "stdout",
     "output_type": "stream",
     "text": [
      "1 \n",
      "1 1 \n",
      "1 2 1 \n",
      "1 3 3 1 \n",
      "1 4 6 4 1 \n",
      "1 5 10 10 5 1 \n",
      "1 6 15 20 15 6 1 \n"
     ]
    }
   ],
   "source": [
    "def print_pascal_triangle(size):\n",
    "    for i in range(0, size):\n",
    "        for j in range(0, i + 1):\n",
    "            print(decide_number(i, j), end=\" \")\n",
    "        print()\n",
    "\n",
    "\n",
    "def decide_number(n, k):\n",
    "    num = 1\n",
    "    if k > n - k:\n",
    "        k = n - k\n",
    "    for i in range(0, k):\n",
    "        num = num * (n - i)\n",
    "        num = num // (i + 1)\n",
    "    return num\n",
    "\n",
    "# set rows\n",
    "rows = 7\n",
    "print_pascal_triangle(rows)"
   ]
  },
  {
   "cell_type": "markdown",
   "id": "infectious-geology",
   "metadata": {
    "papermill": {
     "duration": 0.021321,
     "end_time": "2021-04-07T13:28:47.506152",
     "exception": false,
     "start_time": "2021-04-07T13:28:47.484831",
     "status": "completed"
    },
    "tags": []
   },
   "source": [
    "### Q.7"
   ]
  },
  {
   "cell_type": "code",
   "execution_count": 7,
   "id": "christian-equality",
   "metadata": {
    "execution": {
     "iopub.execute_input": "2021-04-07T13:28:47.555159Z",
     "iopub.status.busy": "2021-04-07T13:28:47.554121Z",
     "iopub.status.idle": "2021-04-07T13:28:47.562419Z",
     "shell.execute_reply": "2021-04-07T13:28:47.562987Z"
    },
    "papermill": {
     "duration": 0.035995,
     "end_time": "2021-04-07T13:28:47.563157",
     "exception": false,
     "start_time": "2021-04-07T13:28:47.527162",
     "status": "completed"
    },
    "tags": []
   },
   "outputs": [
    {
     "name": "stdout",
     "output_type": "stream",
     "text": [
      "1 2 3 4 5 \n",
      "2 2 3 4 5 \n",
      "3 3 3 4 5 \n",
      "4 4 4 4 5 \n",
      "5 5 5 5 5 \n"
     ]
    }
   ],
   "source": [
    "rows = 5\n",
    "for i in range(1, rows + 1):\n",
    "    for j in range(1, rows + 1):\n",
    "        if j <= i:\n",
    "            print(i, end=' ')\n",
    "        else:\n",
    "            print(j, end=' ')\n",
    "    print()"
   ]
  },
  {
   "cell_type": "markdown",
   "id": "other-pharmacy",
   "metadata": {
    "papermill": {
     "duration": 0.020844,
     "end_time": "2021-04-07T13:28:47.605822",
     "exception": false,
     "start_time": "2021-04-07T13:28:47.584978",
     "status": "completed"
    },
    "tags": []
   },
   "source": [
    "### Q.8"
   ]
  },
  {
   "cell_type": "code",
   "execution_count": 8,
   "id": "photographic-america",
   "metadata": {
    "execution": {
     "iopub.execute_input": "2021-04-07T13:28:47.655878Z",
     "iopub.status.busy": "2021-04-07T13:28:47.655056Z",
     "iopub.status.idle": "2021-04-07T13:28:47.660743Z",
     "shell.execute_reply": "2021-04-07T13:28:47.661241Z"
    },
    "papermill": {
     "duration": 0.034218,
     "end_time": "2021-04-07T13:28:47.661408",
     "exception": false,
     "start_time": "2021-04-07T13:28:47.627190",
     "status": "completed"
    },
    "tags": []
   },
   "outputs": [
    {
     "name": "stdout",
     "output_type": "stream",
     "text": [
      "1  \n",
      "2  4  \n",
      "3  6  9  \n",
      "4  8  12  16  \n",
      "5  10  15  20  25  \n",
      "6  12  18  24  30  36  \n",
      "7  14  21  28  35  42  49  \n",
      "8  16  24  32  40  48  56  64  \n"
     ]
    }
   ],
   "source": [
    "rows = 8\n",
    "# rows = int(input(\"Enter the number of rows \"))\n",
    "for i in range(1, rows + 1):\n",
    "    for j in range(1, i + 1):\n",
    "        # multiplication current column and row\n",
    "        square = i * j\n",
    "        print(i * j, end='  ')\n",
    "    print()"
   ]
  },
  {
   "cell_type": "markdown",
   "id": "latin-testing",
   "metadata": {
    "papermill": {
     "duration": 0.021526,
     "end_time": "2021-04-07T13:28:47.704725",
     "exception": false,
     "start_time": "2021-04-07T13:28:47.683199",
     "status": "completed"
    },
    "tags": []
   },
   "source": [
    "### Q.9"
   ]
  },
  {
   "cell_type": "code",
   "execution_count": 9,
   "id": "median-gambling",
   "metadata": {
    "execution": {
     "iopub.execute_input": "2021-04-07T13:28:47.757965Z",
     "iopub.status.busy": "2021-04-07T13:28:47.757194Z",
     "iopub.status.idle": "2021-04-07T13:28:47.761253Z",
     "shell.execute_reply": "2021-04-07T13:28:47.760658Z"
    },
    "papermill": {
     "duration": 0.033827,
     "end_time": "2021-04-07T13:28:47.761383",
     "exception": false,
     "start_time": "2021-04-07T13:28:47.727556",
     "status": "completed"
    },
    "tags": []
   },
   "outputs": [
    {
     "name": "stdout",
     "output_type": "stream",
     "text": [
      "        * * * * * * \n",
      "         * * * * * \n",
      "          * * * * \n",
      "           * * * \n",
      "            * * \n",
      "             * \n"
     ]
    }
   ],
   "source": [
    "rows = 5\n",
    "k = 2 * rows - 2\n",
    "for i in range(rows, -1, -1):\n",
    "    for j in range(k, 0, -1):\n",
    "        print(end=\" \")\n",
    "    k = k + 1\n",
    "    for j in range(0, i + 1):\n",
    "        print(\"*\", end=\" \")\n",
    "    print(\"\")"
   ]
  },
  {
   "cell_type": "markdown",
   "id": "nutritional-headquarters",
   "metadata": {
    "papermill": {
     "duration": 0.021776,
     "end_time": "2021-04-07T13:28:47.805419",
     "exception": false,
     "start_time": "2021-04-07T13:28:47.783643",
     "status": "completed"
    },
    "tags": []
   },
   "source": [
    "### Q.10"
   ]
  },
  {
   "cell_type": "code",
   "execution_count": 10,
   "id": "devoted-arabic",
   "metadata": {
    "execution": {
     "iopub.execute_input": "2021-04-07T13:28:47.862728Z",
     "iopub.status.busy": "2021-04-07T13:28:47.861777Z",
     "iopub.status.idle": "2021-04-07T13:28:47.872877Z",
     "shell.execute_reply": "2021-04-07T13:28:47.872038Z"
    },
    "papermill": {
     "duration": 0.040011,
     "end_time": "2021-04-07T13:28:47.873095",
     "exception": false,
     "start_time": "2021-04-07T13:28:47.833084",
     "status": "completed"
    },
    "tags": []
   },
   "outputs": [
    {
     "name": "stdout",
     "output_type": "stream",
     "text": [
      "            *   \n",
      "           *  *   \n",
      "          *  *  *   \n",
      "         *  *  *  *   \n",
      "        *  *  *  *  *   \n",
      "       *  *  *  *  *  *   \n",
      "      *  *  *  *  *  *  *   \n"
     ]
    }
   ],
   "source": [
    "#print(\"Print equilateral triangle Pyramid using asterisk symbol \")\n",
    "# printing full Triangle pyramid using stars\n",
    "size = 7\n",
    "m = (2 * size) - 2\n",
    "for i in range(0, size):\n",
    "    for j in range(0, m):\n",
    "        print(end=\" \")\n",
    "    # decrementing m after each loop\n",
    "    m = m - 1\n",
    "    for j in range(0, i + 1):\n",
    "        print(\"* \", end=' ')\n",
    "    print(\" \")"
   ]
  },
  {
   "cell_type": "markdown",
   "id": "exciting-attachment",
   "metadata": {
    "papermill": {
     "duration": 0.022485,
     "end_time": "2021-04-07T13:28:47.919438",
     "exception": false,
     "start_time": "2021-04-07T13:28:47.896953",
     "status": "completed"
    },
    "tags": []
   },
   "source": [
    "### Q.11"
   ]
  },
  {
   "cell_type": "code",
   "execution_count": 11,
   "id": "precise-tract",
   "metadata": {
    "execution": {
     "iopub.execute_input": "2021-04-07T13:28:47.972492Z",
     "iopub.status.busy": "2021-04-07T13:28:47.971529Z",
     "iopub.status.idle": "2021-04-07T13:28:47.978928Z",
     "shell.execute_reply": "2021-04-07T13:28:47.979733Z"
    },
    "papermill": {
     "duration": 0.037597,
     "end_time": "2021-04-07T13:28:47.979978",
     "exception": false,
     "start_time": "2021-04-07T13:28:47.942381",
     "status": "completed"
    },
    "tags": []
   },
   "outputs": [
    {
     "name": "stdout",
     "output_type": "stream",
     "text": [
      "*  \n",
      "* *  \n",
      "* * *  \n",
      "* * * *  \n",
      "* * * * *  \n",
      "* * * * * *  \n",
      " \n",
      "* * * * * *  \n",
      "* * * * *  \n",
      "* * * *  \n",
      "* * *  \n",
      "* *  \n",
      "*  \n",
      " \n"
     ]
    }
   ],
   "source": [
    "rows = 6\n",
    "for i in range(0, rows):\n",
    "    for j in range(0, i + 1):\n",
    "        print(\"*\", end=' ')\n",
    "    print(\" \")\n",
    "\n",
    "print(\" \")\n",
    "\n",
    "for i in range(rows + 1, 0, -1):\n",
    "    for j in range(0, i - 1):\n",
    "        print(\"*\", end=' ')\n",
    "    print(\" \")"
   ]
  },
  {
   "cell_type": "markdown",
   "id": "twenty-england",
   "metadata": {
    "papermill": {
     "duration": 0.023083,
     "end_time": "2021-04-07T13:28:48.028168",
     "exception": false,
     "start_time": "2021-04-07T13:28:48.005085",
     "status": "completed"
    },
    "tags": []
   },
   "source": [
    "### Q.12"
   ]
  },
  {
   "cell_type": "code",
   "execution_count": 12,
   "id": "eastern-portsmouth",
   "metadata": {
    "execution": {
     "iopub.execute_input": "2021-04-07T13:28:48.081601Z",
     "iopub.status.busy": "2021-04-07T13:28:48.080553Z",
     "iopub.status.idle": "2021-04-07T13:28:48.085627Z",
     "shell.execute_reply": "2021-04-07T13:28:48.086448Z"
    },
    "papermill": {
     "duration": 0.035394,
     "end_time": "2021-04-07T13:28:48.086727",
     "exception": false,
     "start_time": "2021-04-07T13:28:48.051333",
     "status": "completed"
    },
    "tags": []
   },
   "outputs": [
    {
     "name": "stdout",
     "output_type": "stream",
     "text": [
      "* \r\n",
      "* * \r\n",
      "* * * \r\n",
      "* * * * \r\n",
      "* * * * * \r\n",
      "* * * * \r\n",
      "* * * \r\n",
      "* * \r\n",
      "* \r\n",
      "\r\n"
     ]
    }
   ],
   "source": [
    "rows = 5\n",
    "for i in range(0, rows):\n",
    "    for j in range(0, i + 1):\n",
    "        print(\"*\", end=' ')\n",
    "    print(\"\\r\")\n",
    "\n",
    "for i in range(rows, 0, -1):\n",
    "    for j in range(0, i - 1):\n",
    "        print(\"*\", end=' ')\n",
    "    print(\"\\r\")"
   ]
  },
  {
   "cell_type": "markdown",
   "id": "looking-advancement",
   "metadata": {
    "papermill": {
     "duration": 0.023793,
     "end_time": "2021-04-07T13:28:48.136239",
     "exception": false,
     "start_time": "2021-04-07T13:28:48.112446",
     "status": "completed"
    },
    "tags": []
   },
   "source": [
    "### Q.13"
   ]
  },
  {
   "cell_type": "code",
   "execution_count": 13,
   "id": "random-interval",
   "metadata": {
    "execution": {
     "iopub.execute_input": "2021-04-07T13:28:48.194123Z",
     "iopub.status.busy": "2021-04-07T13:28:48.193224Z",
     "iopub.status.idle": "2021-04-07T13:28:48.198169Z",
     "shell.execute_reply": "2021-04-07T13:28:48.197332Z"
    },
    "papermill": {
     "duration": 0.038092,
     "end_time": "2021-04-07T13:28:48.198369",
     "exception": false,
     "start_time": "2021-04-07T13:28:48.160277",
     "status": "completed"
    },
    "tags": []
   },
   "outputs": [
    {
     "name": "stdout",
     "output_type": "stream",
     "text": [
      "        * \n",
      "      * * \n",
      "    * * * \n",
      "  * * * * \n",
      "* * * * * \n",
      "  * * * * \n",
      "    * * * \n",
      "      * * \n",
      "        * \n",
      "          \n"
     ]
    }
   ],
   "source": [
    "rows = 5\n",
    "i = 1\n",
    "while i <= rows:\n",
    "    j = i\n",
    "    while j < rows:\n",
    "        # display space\n",
    "        print(' ', end=' ')\n",
    "        j += 1\n",
    "    k = 1\n",
    "    while k <= i:\n",
    "        print('*', end=' ')\n",
    "        k += 1\n",
    "    print()\n",
    "    i += 1\n",
    "\n",
    "i = rows\n",
    "while i >= 1:\n",
    "    j = i\n",
    "    while j <= rows:\n",
    "        print(' ', end=' ')\n",
    "        j += 1\n",
    "    k = 1\n",
    "    while k < i:\n",
    "        print('*', end=' ')\n",
    "        k += 1\n",
    "    print('')\n",
    "    i -= 1"
   ]
  },
  {
   "cell_type": "markdown",
   "id": "random-craps",
   "metadata": {
    "papermill": {
     "duration": 0.023738,
     "end_time": "2021-04-07T13:28:48.248413",
     "exception": false,
     "start_time": "2021-04-07T13:28:48.224675",
     "status": "completed"
    },
    "tags": []
   },
   "source": [
    "### Q.14"
   ]
  },
  {
   "cell_type": "code",
   "execution_count": 14,
   "id": "effective-nightmare",
   "metadata": {
    "execution": {
     "iopub.execute_input": "2021-04-07T13:28:48.306368Z",
     "iopub.status.busy": "2021-04-07T13:28:48.305321Z",
     "iopub.status.idle": "2021-04-07T13:28:48.310929Z",
     "shell.execute_reply": "2021-04-07T13:28:48.311674Z"
    },
    "papermill": {
     "duration": 0.039511,
     "end_time": "2021-04-07T13:28:48.311920",
     "exception": false,
     "start_time": "2021-04-07T13:28:48.272409",
     "status": "completed"
    },
    "tags": []
   },
   "outputs": [
    {
     "name": "stdout",
     "output_type": "stream",
     "text": [
      "* * * * * \n",
      " * * * * \n",
      "  * * * \n",
      "   * * \n",
      "    * \n",
      "    * \n",
      "   * * \n",
      "  * * * \n",
      " * * * * \n",
      "* * * * * \n"
     ]
    }
   ],
   "source": [
    "rows = 5\n",
    "i = 0\n",
    "while i <= rows - 1:\n",
    "    j = 0\n",
    "    while j < i:\n",
    "        # display space\n",
    "        print('', end=' ')\n",
    "        j += 1\n",
    "    k = i\n",
    "    while k <= rows - 1:\n",
    "        print('*', end=' ')\n",
    "        k += 1\n",
    "    print()\n",
    "    i += 1\n",
    "\n",
    "i = rows - 1\n",
    "while i >= 0:\n",
    "    j = 0\n",
    "    while j < i:\n",
    "        print('', end=' ')\n",
    "        j += 1\n",
    "    k = i\n",
    "    while k <= rows - 1:\n",
    "        print('*', end=' ')\n",
    "        k += 1\n",
    "    print('')\n",
    "    i -= 1"
   ]
  },
  {
   "cell_type": "markdown",
   "id": "literary-gates",
   "metadata": {
    "papermill": {
     "duration": 0.02409,
     "end_time": "2021-04-07T13:28:48.362816",
     "exception": false,
     "start_time": "2021-04-07T13:28:48.338726",
     "status": "completed"
    },
    "tags": []
   },
   "source": [
    "### Q.15"
   ]
  },
  {
   "cell_type": "code",
   "execution_count": 15,
   "id": "temporal-rates",
   "metadata": {
    "execution": {
     "iopub.execute_input": "2021-04-07T13:28:48.419610Z",
     "iopub.status.busy": "2021-04-07T13:28:48.418520Z",
     "iopub.status.idle": "2021-04-07T13:28:48.423090Z",
     "shell.execute_reply": "2021-04-07T13:28:48.423554Z"
    },
    "papermill": {
     "duration": 0.036459,
     "end_time": "2021-04-07T13:28:48.423752",
     "exception": false,
     "start_time": "2021-04-07T13:28:48.387293",
     "status": "completed"
    },
    "tags": []
   },
   "outputs": [
    {
     "name": "stdout",
     "output_type": "stream",
     "text": [
      "**************\n",
      "******__******\n",
      "*****____*****\n",
      "****______****\n",
      "***________***\n",
      "**__________**\n",
      "*____________*\n"
     ]
    }
   ],
   "source": [
    "rows = 14\n",
    "print(\"*\" * rows, end=\"\\n\")\n",
    "i = (rows // 2) - 1\n",
    "j = 2\n",
    "while i != 0:\n",
    "    while j <= (rows - 2):\n",
    "        print(\"*\" * i, end=\"\")\n",
    "        print(\"_\" * j, end=\"\")\n",
    "        print(\"*\" * i, end=\"\\n\")\n",
    "        i = i - 1\n",
    "        j = j + 2"
   ]
  },
  {
   "cell_type": "code",
   "execution_count": null,
   "id": "engaged-spelling",
   "metadata": {
    "papermill": {
     "duration": 0.024667,
     "end_time": "2021-04-07T13:28:48.473897",
     "exception": false,
     "start_time": "2021-04-07T13:28:48.449230",
     "status": "completed"
    },
    "tags": []
   },
   "outputs": [],
   "source": []
  }
 ],
 "metadata": {
  "kernelspec": {
   "display_name": "Python 3",
   "language": "python",
   "name": "python3"
  },
  "language_info": {
   "codemirror_mode": {
    "name": "ipython",
    "version": 3
   },
   "file_extension": ".py",
   "mimetype": "text/x-python",
   "name": "python",
   "nbconvert_exporter": "python",
   "pygments_lexer": "ipython3",
   "version": "3.7.9"
  },
  "papermill": {
   "default_parameters": {},
   "duration": 8.281634,
   "end_time": "2021-04-07T13:28:49.109799",
   "environment_variables": {},
   "exception": null,
   "input_path": "__notebook__.ipynb",
   "output_path": "__notebook__.ipynb",
   "parameters": {},
   "start_time": "2021-04-07T13:28:40.828165",
   "version": "2.3.2"
  }
 },
 "nbformat": 4,
 "nbformat_minor": 5
}
